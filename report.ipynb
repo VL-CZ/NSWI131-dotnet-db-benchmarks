{
 "cells": [
  {
   "attachments": {},
   "cell_type": "markdown",
   "metadata": {},
   "source": [
    "# Raw SQL x ORM Benchmarks\n",
    "*Vojtěch Lengál*"
   ]
  },
  {
   "cell_type": "code",
   "execution_count": 1,
   "metadata": {},
   "outputs": [],
   "source": [
    "import numpy as np\n",
    "import pandas as pd\n",
    "import matplotlib.pyplot as plt"
   ]
  },
  {
   "attachments": {},
   "cell_type": "markdown",
   "metadata": {},
   "source": [
    "## Intro\n",
    "In this experiment, we're going to evaluate performance overhead of using [EF Core](https://learn.microsoft.com/en-us/ef/) (ORM framework for .NET) compared to raw SQL queries.\n",
    "\n",
    "\n",
    "- SQLite (embedded DB)\n",
    "- SQL Server\n",
    "\n",
    "### Expected results:"
   ]
  },
  {
   "attachments": {},
   "cell_type": "markdown",
   "metadata": {},
   "source": [
    "## Testing data\n",
    "\n",
    "Our data model represents a simple e-shop with the following entities:\n",
    "- Category\n",
    "- Product\n",
    "- Order\n",
    "- Customer\n",
    "\n",
    "Here's a UML model of our data:\n",
    "\n",
    "![](./diagrams/data_model.png)\n",
    "\n",
    "I generated the test data, i.e.\n",
    "- 1,000 Categories\n",
    "- 1,000,000 Products\n",
    "- 100,000 Orders (each order has <= 10 products)\n",
    "- 1,000 Customers\n",
    "\n",
    "using [Bogus](https://github.com/bchavez/Bogus) library.\n",
    "\n",
    "So, all of the following benchmarks are ran on these data.\n",
    "\n",
    "## Benchmarks"
   ]
  },
  {
   "attachments": {},
   "cell_type": "markdown",
   "metadata": {},
   "source": [
    "## Build & run\n",
    "\n",
    "## Conclusions"
   ]
  }
 ],
 "metadata": {
  "kernelspec": {
   "display_name": ".venv",
   "language": "python",
   "name": "python3"
  },
  "language_info": {
   "codemirror_mode": {
    "name": "ipython",
    "version": 3
   },
   "file_extension": ".py",
   "mimetype": "text/x-python",
   "name": "python",
   "nbconvert_exporter": "python",
   "pygments_lexer": "ipython3",
   "version": "3.10.7"
  },
  "orig_nbformat": 4
 },
 "nbformat": 4,
 "nbformat_minor": 2
}
